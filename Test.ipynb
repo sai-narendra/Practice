{
 "cells": [
  {
   "cell_type": "code",
   "execution_count": 1,
   "id": "f908c115",
   "metadata": {},
   "outputs": [],
   "source": [
    "import pandas as pd\n",
    "import seaborn as sns\n",
    "import matplotlib.pyplot as plt\n",
    "%matplotlib inline\n",
    "import numpy as np"
   ]
  },
  {
   "cell_type": "code",
   "execution_count": 2,
   "id": "4649e534",
   "metadata": {},
   "outputs": [],
   "source": [
    "df = pd.read_csv('adult.data',header=None)"
   ]
  },
  {
   "cell_type": "code",
   "execution_count": 3,
   "id": "8d08c435",
   "metadata": {},
   "outputs": [
    {
     "data": {
      "text/html": [
       "<div>\n",
       "<style scoped>\n",
       "    .dataframe tbody tr th:only-of-type {\n",
       "        vertical-align: middle;\n",
       "    }\n",
       "\n",
       "    .dataframe tbody tr th {\n",
       "        vertical-align: top;\n",
       "    }\n",
       "\n",
       "    .dataframe thead th {\n",
       "        text-align: right;\n",
       "    }\n",
       "</style>\n",
       "<table border=\"1\" class=\"dataframe\">\n",
       "  <thead>\n",
       "    <tr style=\"text-align: right;\">\n",
       "      <th></th>\n",
       "      <th>0</th>\n",
       "      <th>1</th>\n",
       "      <th>2</th>\n",
       "      <th>3</th>\n",
       "      <th>4</th>\n",
       "      <th>5</th>\n",
       "      <th>6</th>\n",
       "      <th>7</th>\n",
       "      <th>8</th>\n",
       "      <th>9</th>\n",
       "      <th>10</th>\n",
       "      <th>11</th>\n",
       "      <th>12</th>\n",
       "      <th>13</th>\n",
       "      <th>14</th>\n",
       "    </tr>\n",
       "  </thead>\n",
       "  <tbody>\n",
       "    <tr>\n",
       "      <th>0</th>\n",
       "      <td>39</td>\n",
       "      <td>State-gov</td>\n",
       "      <td>77516</td>\n",
       "      <td>Bachelors</td>\n",
       "      <td>13</td>\n",
       "      <td>Never-married</td>\n",
       "      <td>Adm-clerical</td>\n",
       "      <td>Not-in-family</td>\n",
       "      <td>White</td>\n",
       "      <td>Male</td>\n",
       "      <td>2174</td>\n",
       "      <td>0</td>\n",
       "      <td>40</td>\n",
       "      <td>United-States</td>\n",
       "      <td>&lt;=50K</td>\n",
       "    </tr>\n",
       "    <tr>\n",
       "      <th>1</th>\n",
       "      <td>50</td>\n",
       "      <td>Self-emp-not-inc</td>\n",
       "      <td>83311</td>\n",
       "      <td>Bachelors</td>\n",
       "      <td>13</td>\n",
       "      <td>Married-civ-spouse</td>\n",
       "      <td>Exec-managerial</td>\n",
       "      <td>Husband</td>\n",
       "      <td>White</td>\n",
       "      <td>Male</td>\n",
       "      <td>0</td>\n",
       "      <td>0</td>\n",
       "      <td>13</td>\n",
       "      <td>United-States</td>\n",
       "      <td>&lt;=50K</td>\n",
       "    </tr>\n",
       "    <tr>\n",
       "      <th>2</th>\n",
       "      <td>38</td>\n",
       "      <td>Private</td>\n",
       "      <td>215646</td>\n",
       "      <td>HS-grad</td>\n",
       "      <td>9</td>\n",
       "      <td>Divorced</td>\n",
       "      <td>Handlers-cleaners</td>\n",
       "      <td>Not-in-family</td>\n",
       "      <td>White</td>\n",
       "      <td>Male</td>\n",
       "      <td>0</td>\n",
       "      <td>0</td>\n",
       "      <td>40</td>\n",
       "      <td>United-States</td>\n",
       "      <td>&lt;=50K</td>\n",
       "    </tr>\n",
       "    <tr>\n",
       "      <th>3</th>\n",
       "      <td>53</td>\n",
       "      <td>Private</td>\n",
       "      <td>234721</td>\n",
       "      <td>11th</td>\n",
       "      <td>7</td>\n",
       "      <td>Married-civ-spouse</td>\n",
       "      <td>Handlers-cleaners</td>\n",
       "      <td>Husband</td>\n",
       "      <td>Black</td>\n",
       "      <td>Male</td>\n",
       "      <td>0</td>\n",
       "      <td>0</td>\n",
       "      <td>40</td>\n",
       "      <td>United-States</td>\n",
       "      <td>&lt;=50K</td>\n",
       "    </tr>\n",
       "    <tr>\n",
       "      <th>4</th>\n",
       "      <td>28</td>\n",
       "      <td>Private</td>\n",
       "      <td>338409</td>\n",
       "      <td>Bachelors</td>\n",
       "      <td>13</td>\n",
       "      <td>Married-civ-spouse</td>\n",
       "      <td>Prof-specialty</td>\n",
       "      <td>Wife</td>\n",
       "      <td>Black</td>\n",
       "      <td>Female</td>\n",
       "      <td>0</td>\n",
       "      <td>0</td>\n",
       "      <td>40</td>\n",
       "      <td>Cuba</td>\n",
       "      <td>&lt;=50K</td>\n",
       "    </tr>\n",
       "  </tbody>\n",
       "</table>\n",
       "</div>"
      ],
      "text/plain": [
       "   0                  1       2           3   4                    5   \\\n",
       "0  39          State-gov   77516   Bachelors  13        Never-married   \n",
       "1  50   Self-emp-not-inc   83311   Bachelors  13   Married-civ-spouse   \n",
       "2  38            Private  215646     HS-grad   9             Divorced   \n",
       "3  53            Private  234721        11th   7   Married-civ-spouse   \n",
       "4  28            Private  338409   Bachelors  13   Married-civ-spouse   \n",
       "\n",
       "                   6               7       8        9     10  11  12  \\\n",
       "0        Adm-clerical   Not-in-family   White     Male  2174   0  40   \n",
       "1     Exec-managerial         Husband   White     Male     0   0  13   \n",
       "2   Handlers-cleaners   Not-in-family   White     Male     0   0  40   \n",
       "3   Handlers-cleaners         Husband   Black     Male     0   0  40   \n",
       "4      Prof-specialty            Wife   Black   Female     0   0  40   \n",
       "\n",
       "               13      14  \n",
       "0   United-States   <=50K  \n",
       "1   United-States   <=50K  \n",
       "2   United-States   <=50K  \n",
       "3   United-States   <=50K  \n",
       "4            Cuba   <=50K  "
      ]
     },
     "execution_count": 3,
     "metadata": {},
     "output_type": "execute_result"
    }
   ],
   "source": [
    "df.head()"
   ]
  },
  {
   "cell_type": "code",
   "execution_count": 4,
   "id": "48317c63",
   "metadata": {},
   "outputs": [],
   "source": [
    "df.columns = ['age','workclass','fnlwgt','education','ed_num','marital_status','occupation','relation',\n",
    "              'race','sex','cap_gain','cap_loss','hrs_per_week','country','Salary']"
   ]
  },
  {
   "cell_type": "code",
   "execution_count": 5,
   "id": "e7c6ca7e",
   "metadata": {},
   "outputs": [
    {
     "data": {
      "text/html": [
       "<div>\n",
       "<style scoped>\n",
       "    .dataframe tbody tr th:only-of-type {\n",
       "        vertical-align: middle;\n",
       "    }\n",
       "\n",
       "    .dataframe tbody tr th {\n",
       "        vertical-align: top;\n",
       "    }\n",
       "\n",
       "    .dataframe thead th {\n",
       "        text-align: right;\n",
       "    }\n",
       "</style>\n",
       "<table border=\"1\" class=\"dataframe\">\n",
       "  <thead>\n",
       "    <tr style=\"text-align: right;\">\n",
       "      <th></th>\n",
       "      <th>age</th>\n",
       "      <th>workclass</th>\n",
       "      <th>fnlwgt</th>\n",
       "      <th>education</th>\n",
       "      <th>ed_num</th>\n",
       "      <th>marital_status</th>\n",
       "      <th>occupation</th>\n",
       "      <th>relation</th>\n",
       "      <th>race</th>\n",
       "      <th>sex</th>\n",
       "      <th>cap_gain</th>\n",
       "      <th>cap_loss</th>\n",
       "      <th>hrs_per_week</th>\n",
       "      <th>country</th>\n",
       "      <th>Salary</th>\n",
       "    </tr>\n",
       "  </thead>\n",
       "  <tbody>\n",
       "    <tr>\n",
       "      <th>0</th>\n",
       "      <td>39</td>\n",
       "      <td>State-gov</td>\n",
       "      <td>77516</td>\n",
       "      <td>Bachelors</td>\n",
       "      <td>13</td>\n",
       "      <td>Never-married</td>\n",
       "      <td>Adm-clerical</td>\n",
       "      <td>Not-in-family</td>\n",
       "      <td>White</td>\n",
       "      <td>Male</td>\n",
       "      <td>2174</td>\n",
       "      <td>0</td>\n",
       "      <td>40</td>\n",
       "      <td>United-States</td>\n",
       "      <td>&lt;=50K</td>\n",
       "    </tr>\n",
       "    <tr>\n",
       "      <th>1</th>\n",
       "      <td>50</td>\n",
       "      <td>Self-emp-not-inc</td>\n",
       "      <td>83311</td>\n",
       "      <td>Bachelors</td>\n",
       "      <td>13</td>\n",
       "      <td>Married-civ-spouse</td>\n",
       "      <td>Exec-managerial</td>\n",
       "      <td>Husband</td>\n",
       "      <td>White</td>\n",
       "      <td>Male</td>\n",
       "      <td>0</td>\n",
       "      <td>0</td>\n",
       "      <td>13</td>\n",
       "      <td>United-States</td>\n",
       "      <td>&lt;=50K</td>\n",
       "    </tr>\n",
       "    <tr>\n",
       "      <th>2</th>\n",
       "      <td>38</td>\n",
       "      <td>Private</td>\n",
       "      <td>215646</td>\n",
       "      <td>HS-grad</td>\n",
       "      <td>9</td>\n",
       "      <td>Divorced</td>\n",
       "      <td>Handlers-cleaners</td>\n",
       "      <td>Not-in-family</td>\n",
       "      <td>White</td>\n",
       "      <td>Male</td>\n",
       "      <td>0</td>\n",
       "      <td>0</td>\n",
       "      <td>40</td>\n",
       "      <td>United-States</td>\n",
       "      <td>&lt;=50K</td>\n",
       "    </tr>\n",
       "    <tr>\n",
       "      <th>3</th>\n",
       "      <td>53</td>\n",
       "      <td>Private</td>\n",
       "      <td>234721</td>\n",
       "      <td>11th</td>\n",
       "      <td>7</td>\n",
       "      <td>Married-civ-spouse</td>\n",
       "      <td>Handlers-cleaners</td>\n",
       "      <td>Husband</td>\n",
       "      <td>Black</td>\n",
       "      <td>Male</td>\n",
       "      <td>0</td>\n",
       "      <td>0</td>\n",
       "      <td>40</td>\n",
       "      <td>United-States</td>\n",
       "      <td>&lt;=50K</td>\n",
       "    </tr>\n",
       "    <tr>\n",
       "      <th>4</th>\n",
       "      <td>28</td>\n",
       "      <td>Private</td>\n",
       "      <td>338409</td>\n",
       "      <td>Bachelors</td>\n",
       "      <td>13</td>\n",
       "      <td>Married-civ-spouse</td>\n",
       "      <td>Prof-specialty</td>\n",
       "      <td>Wife</td>\n",
       "      <td>Black</td>\n",
       "      <td>Female</td>\n",
       "      <td>0</td>\n",
       "      <td>0</td>\n",
       "      <td>40</td>\n",
       "      <td>Cuba</td>\n",
       "      <td>&lt;=50K</td>\n",
       "    </tr>\n",
       "  </tbody>\n",
       "</table>\n",
       "</div>"
      ],
      "text/plain": [
       "   age          workclass  fnlwgt   education  ed_num       marital_status  \\\n",
       "0   39          State-gov   77516   Bachelors      13        Never-married   \n",
       "1   50   Self-emp-not-inc   83311   Bachelors      13   Married-civ-spouse   \n",
       "2   38            Private  215646     HS-grad       9             Divorced   \n",
       "3   53            Private  234721        11th       7   Married-civ-spouse   \n",
       "4   28            Private  338409   Bachelors      13   Married-civ-spouse   \n",
       "\n",
       "           occupation        relation    race      sex  cap_gain  cap_loss  \\\n",
       "0        Adm-clerical   Not-in-family   White     Male      2174         0   \n",
       "1     Exec-managerial         Husband   White     Male         0         0   \n",
       "2   Handlers-cleaners   Not-in-family   White     Male         0         0   \n",
       "3   Handlers-cleaners         Husband   Black     Male         0         0   \n",
       "4      Prof-specialty            Wife   Black   Female         0         0   \n",
       "\n",
       "   hrs_per_week         country  Salary  \n",
       "0            40   United-States   <=50K  \n",
       "1            13   United-States   <=50K  \n",
       "2            40   United-States   <=50K  \n",
       "3            40   United-States   <=50K  \n",
       "4            40            Cuba   <=50K  "
      ]
     },
     "execution_count": 5,
     "metadata": {},
     "output_type": "execute_result"
    }
   ],
   "source": [
    "df.head()"
   ]
  },
  {
   "cell_type": "code",
   "execution_count": 6,
   "id": "82234a00",
   "metadata": {},
   "outputs": [
    {
     "data": {
      "text/plain": [
       " <=50K    24720\n",
       " >50K      7841\n",
       "Name: Salary, dtype: int64"
      ]
     },
     "execution_count": 6,
     "metadata": {},
     "output_type": "execute_result"
    }
   ],
   "source": [
    "df['Salary'].value_counts()"
   ]
  },
  {
   "cell_type": "code",
   "execution_count": 7,
   "id": "0af14f48",
   "metadata": {},
   "outputs": [
    {
     "data": {
      "text/plain": [
       "age               0\n",
       "workclass         0\n",
       "fnlwgt            0\n",
       "education         0\n",
       "ed_num            0\n",
       "marital_status    0\n",
       "occupation        0\n",
       "relation          0\n",
       "race              0\n",
       "sex               0\n",
       "cap_gain          0\n",
       "cap_loss          0\n",
       "hrs_per_week      0\n",
       "country           0\n",
       "Salary            0\n",
       "dtype: int64"
      ]
     },
     "execution_count": 7,
     "metadata": {},
     "output_type": "execute_result"
    }
   ],
   "source": [
    "df.isnull().sum()"
   ]
  },
  {
   "cell_type": "code",
   "execution_count": 8,
   "id": "cbecd9ef",
   "metadata": {},
   "outputs": [],
   "source": [
    "num_feat = df.select_dtypes(exclude='O')"
   ]
  },
  {
   "cell_type": "code",
   "execution_count": 9,
   "id": "91b9bafd",
   "metadata": {},
   "outputs": [
    {
     "data": {
      "text/html": [
       "<div>\n",
       "<style scoped>\n",
       "    .dataframe tbody tr th:only-of-type {\n",
       "        vertical-align: middle;\n",
       "    }\n",
       "\n",
       "    .dataframe tbody tr th {\n",
       "        vertical-align: top;\n",
       "    }\n",
       "\n",
       "    .dataframe thead th {\n",
       "        text-align: right;\n",
       "    }\n",
       "</style>\n",
       "<table border=\"1\" class=\"dataframe\">\n",
       "  <thead>\n",
       "    <tr style=\"text-align: right;\">\n",
       "      <th></th>\n",
       "      <th>age</th>\n",
       "      <th>fnlwgt</th>\n",
       "      <th>ed_num</th>\n",
       "      <th>cap_gain</th>\n",
       "      <th>cap_loss</th>\n",
       "      <th>hrs_per_week</th>\n",
       "    </tr>\n",
       "  </thead>\n",
       "  <tbody>\n",
       "    <tr>\n",
       "      <th>0</th>\n",
       "      <td>39</td>\n",
       "      <td>77516</td>\n",
       "      <td>13</td>\n",
       "      <td>2174</td>\n",
       "      <td>0</td>\n",
       "      <td>40</td>\n",
       "    </tr>\n",
       "    <tr>\n",
       "      <th>1</th>\n",
       "      <td>50</td>\n",
       "      <td>83311</td>\n",
       "      <td>13</td>\n",
       "      <td>0</td>\n",
       "      <td>0</td>\n",
       "      <td>13</td>\n",
       "    </tr>\n",
       "    <tr>\n",
       "      <th>2</th>\n",
       "      <td>38</td>\n",
       "      <td>215646</td>\n",
       "      <td>9</td>\n",
       "      <td>0</td>\n",
       "      <td>0</td>\n",
       "      <td>40</td>\n",
       "    </tr>\n",
       "    <tr>\n",
       "      <th>3</th>\n",
       "      <td>53</td>\n",
       "      <td>234721</td>\n",
       "      <td>7</td>\n",
       "      <td>0</td>\n",
       "      <td>0</td>\n",
       "      <td>40</td>\n",
       "    </tr>\n",
       "    <tr>\n",
       "      <th>4</th>\n",
       "      <td>28</td>\n",
       "      <td>338409</td>\n",
       "      <td>13</td>\n",
       "      <td>0</td>\n",
       "      <td>0</td>\n",
       "      <td>40</td>\n",
       "    </tr>\n",
       "    <tr>\n",
       "      <th>...</th>\n",
       "      <td>...</td>\n",
       "      <td>...</td>\n",
       "      <td>...</td>\n",
       "      <td>...</td>\n",
       "      <td>...</td>\n",
       "      <td>...</td>\n",
       "    </tr>\n",
       "    <tr>\n",
       "      <th>32556</th>\n",
       "      <td>27</td>\n",
       "      <td>257302</td>\n",
       "      <td>12</td>\n",
       "      <td>0</td>\n",
       "      <td>0</td>\n",
       "      <td>38</td>\n",
       "    </tr>\n",
       "    <tr>\n",
       "      <th>32557</th>\n",
       "      <td>40</td>\n",
       "      <td>154374</td>\n",
       "      <td>9</td>\n",
       "      <td>0</td>\n",
       "      <td>0</td>\n",
       "      <td>40</td>\n",
       "    </tr>\n",
       "    <tr>\n",
       "      <th>32558</th>\n",
       "      <td>58</td>\n",
       "      <td>151910</td>\n",
       "      <td>9</td>\n",
       "      <td>0</td>\n",
       "      <td>0</td>\n",
       "      <td>40</td>\n",
       "    </tr>\n",
       "    <tr>\n",
       "      <th>32559</th>\n",
       "      <td>22</td>\n",
       "      <td>201490</td>\n",
       "      <td>9</td>\n",
       "      <td>0</td>\n",
       "      <td>0</td>\n",
       "      <td>20</td>\n",
       "    </tr>\n",
       "    <tr>\n",
       "      <th>32560</th>\n",
       "      <td>52</td>\n",
       "      <td>287927</td>\n",
       "      <td>9</td>\n",
       "      <td>15024</td>\n",
       "      <td>0</td>\n",
       "      <td>40</td>\n",
       "    </tr>\n",
       "  </tbody>\n",
       "</table>\n",
       "<p>32561 rows × 6 columns</p>\n",
       "</div>"
      ],
      "text/plain": [
       "       age  fnlwgt  ed_num  cap_gain  cap_loss  hrs_per_week\n",
       "0       39   77516      13      2174         0            40\n",
       "1       50   83311      13         0         0            13\n",
       "2       38  215646       9         0         0            40\n",
       "3       53  234721       7         0         0            40\n",
       "4       28  338409      13         0         0            40\n",
       "...    ...     ...     ...       ...       ...           ...\n",
       "32556   27  257302      12         0         0            38\n",
       "32557   40  154374       9         0         0            40\n",
       "32558   58  151910       9         0         0            40\n",
       "32559   22  201490       9         0         0            20\n",
       "32560   52  287927       9     15024         0            40\n",
       "\n",
       "[32561 rows x 6 columns]"
      ]
     },
     "execution_count": 9,
     "metadata": {},
     "output_type": "execute_result"
    }
   ],
   "source": [
    "num_feat"
   ]
  },
  {
   "cell_type": "code",
   "execution_count": 10,
   "id": "4c4d42e3",
   "metadata": {
    "scrolled": true
   },
   "outputs": [
    {
     "data": {
      "text/plain": [
       "<AxesSubplot:xlabel='age'>"
      ]
     },
     "execution_count": 10,
     "metadata": {},
     "output_type": "execute_result"
    },
    {
     "data": {
      "image/png": "[encoded data removed]",
      "text/plain": [
       "<Figure size 432x288 with 1 Axes>"
      ]
     },
     "metadata": {
      "needs_background": "light"
     },
     "output_type": "display_data"
    }
   ],
   "source": [
    "import warnings\n",
    "warnings.filterwarnings('always')\n",
    "warnings.filterwarnings('ignore')\n",
    "sns.boxplot(df['age'])"
   ]
  },
  {
   "cell_type": "code",
   "execution_count": 11,
   "id": "f5c4d2d1",
   "metadata": {},
   "outputs": [
    {
     "data": {
      "text/plain": [
       "<AxesSubplot:xlabel='age', ylabel='Density'>"
      ]
     },
     "execution_count": 11,
     "metadata": {},
     "output_type": "execute_result"
    },
    {
     "data": {
      "image/png": "[encoded data removed]",
      "text/plain": [
       "<Figure size 432x288 with 1 Axes>"
      ]
     },
     "metadata": {
      "needs_background": "light"
     },
     "output_type": "display_data"
    }
   ],
   "source": [
    "sns.distplot(df['age'])"
   ]
  },
  {
   "cell_type": "code",
   "execution_count": 12,
   "id": "c5ffc668",
   "metadata": {},
   "outputs": [
    {
     "data": {
      "text/plain": [
       "Index(['age', 'fnlwgt', 'ed_num', 'cap_gain', 'cap_loss', 'hrs_per_week'], dtype='object')"
      ]
     },
     "execution_count": 12,
     "metadata": {},
     "output_type": "execute_result"
    }
   ],
   "source": [
    "num_feat.columns"
   ]
  },
  {
   "cell_type": "code",
   "execution_count": 13,
   "id": "dc51a5da",
   "metadata": {},
   "outputs": [],
   "source": [
    "quant_25 = df['age'].quantile(0.25)\n",
    "quant_75 = df['age'].quantile(0.75)\n",
    "IQR = quant_75 - quant_25\n",
    "lower_limit = quant_25 - 1.5 * IQR\n",
    "upper_limit = quant_75 + 1.5 * IQR\n",
    "\n",
    "df['age'] = np.where(df['age'] < lower_limit, lower_limit, np.where(df['age'] > upper_limit, upper_limit, df['age']))"
   ]
  },
  {
   "cell_type": "code",
   "execution_count": 14,
   "id": "c1557c56",
   "metadata": {
    "scrolled": true
   },
   "outputs": [
    {
     "data": {
      "text/plain": [
       "<AxesSubplot:xlabel='age'>"
      ]
     },
     "execution_count": 14,
     "metadata": {},
     "output_type": "execute_result"
    },
    {
     "data": {
      "image/png": "[encoded data removed]",
      "text/plain": [
       "<Figure size 432x288 with 1 Axes>"
      ]
     },
     "metadata": {
      "needs_background": "light"
     },
     "output_type": "display_data"
    }
   ],
   "source": [
    "sns.boxplot(df['age'])"
   ]
  },
  {
   "cell_type": "code",
   "execution_count": 15,
   "id": "a7cc1cea",
   "metadata": {},
   "outputs": [],
   "source": [
    "quant_25 = df['fnlwgt'].quantile(0.25)\n",
    "quant_75 = df['fnlwgt'].quantile(0.75)\n",
    "IQR = quant_75 - quant_25\n",
    "lower_limit = quant_25 - 1.5 * IQR\n",
    "upper_limit = quant_75 + 1.5 * IQR\n",
    "\n",
    "df['fnlwgt'] = np.where(df['fnlwgt'] < lower_limit, lower_limit, np.where(df['fnlwgt'] > upper_limit, upper_limit, df['fnlwgt']))"
   ]
  },
  {
   "cell_type": "code",
   "execution_count": 16,
   "id": "2171fd0e",
   "metadata": {},
   "outputs": [],
   "source": [
    "quant_25 = df['ed_num'].quantile(0.25)\n",
    "quant_75 = df['ed_num'].quantile(0.75)\n",
    "IQR = quant_75 - quant_25\n",
    "lower_limit = quant_25 - 1.5 * IQR\n",
    "upper_limit = quant_75 + 1.5 * IQR\n",
    "\n",
    "df['ed_num'] = np.where(df['ed_num'] < lower_limit, lower_limit, \n",
    "                        np.where(df['ed_num'] > upper_limit, upper_limit, df['ed_num']))"
   ]
  },
  {
   "cell_type": "code",
   "execution_count": 17,
   "id": "2f4a7b34",
   "metadata": {},
   "outputs": [],
   "source": [
    "quant_25 = df['hrs_per_week'].quantile(0.25)\n",
    "quant_75 = df['hrs_per_week'].quantile(0.75)\n",
    "IQR = quant_75 - quant_25\n",
    "lower_limit = quant_25 - 1.5 * IQR\n",
    "upper_limit = quant_75 + 1.5 * IQR\n",
    "\n",
    "df['hrs_per_week'] = np.where(df['hrs_per_week'] < lower_limit, lower_limit, \n",
    "                        np.where(df['hrs_per_week'] > upper_limit, upper_limit, df['hrs_per_week']))"
   ]
  },
  {
   "cell_type": "code",
   "execution_count": 18,
   "id": "339fa0e3",
   "metadata": {
    "scrolled": false
   },
   "outputs": [
    {
     "data": {
      "text/plain": [
       "<AxesSubplot:xlabel='hrs_per_week'>"
      ]
     },
     "execution_count": 18,
     "metadata": {},
     "output_type": "execute_result"
    },
    {
     "data": {
      "image/png": "[encoded data removed]",
      "text/plain": [
       "<Figure size 432x288 with 1 Axes>"
      ]
     },
     "metadata": {
      "needs_background": "light"
     },
     "output_type": "display_data"
    }
   ],
   "source": [
    "sns.boxplot(df['hrs_per_week'])"
   ]
  },
  {
   "cell_type": "code",
   "execution_count": 19,
   "id": "d691bef4",
   "metadata": {},
   "outputs": [],
   "source": [
    "cat_feat = df.select_dtypes(include='O')"
   ]
  },
  {
   "cell_type": "code",
   "execution_count": 20,
   "id": "5bf238d5",
   "metadata": {},
   "outputs": [
    {
     "data": {
      "text/html": [
       "<div>\n",
       "<style scoped>\n",
       "    .dataframe tbody tr th:only-of-type {\n",
       "        vertical-align: middle;\n",
       "    }\n",
       "\n",
       "    .dataframe tbody tr th {\n",
       "        vertical-align: top;\n",
       "    }\n",
       "\n",
       "    .dataframe thead th {\n",
       "        text-align: right;\n",
       "    }\n",
       "</style>\n",
       "<table border=\"1\" class=\"dataframe\">\n",
       "  <thead>\n",
       "    <tr style=\"text-align: right;\">\n",
       "      <th></th>\n",
       "      <th>workclass</th>\n",
       "      <th>education</th>\n",
       "      <th>marital_status</th>\n",
       "      <th>occupation</th>\n",
       "      <th>relation</th>\n",
       "      <th>race</th>\n",
       "      <th>sex</th>\n",
       "      <th>country</th>\n",
       "      <th>Salary</th>\n",
       "    </tr>\n",
       "  </thead>\n",
       "  <tbody>\n",
       "    <tr>\n",
       "      <th>0</th>\n",
       "      <td>State-gov</td>\n",
       "      <td>Bachelors</td>\n",
       "      <td>Never-married</td>\n",
       "      <td>Adm-clerical</td>\n",
       "      <td>Not-in-family</td>\n",
       "      <td>White</td>\n",
       "      <td>Male</td>\n",
       "      <td>United-States</td>\n",
       "      <td>&lt;=50K</td>\n",
       "    </tr>\n",
       "    <tr>\n",
       "      <th>1</th>\n",
       "      <td>Self-emp-not-inc</td>\n",
       "      <td>Bachelors</td>\n",
       "      <td>Married-civ-spouse</td>\n",
       "      <td>Exec-managerial</td>\n",
       "      <td>Husband</td>\n",
       "      <td>White</td>\n",
       "      <td>Male</td>\n",
       "      <td>United-States</td>\n",
       "      <td>&lt;=50K</td>\n",
       "    </tr>\n",
       "    <tr>\n",
       "      <th>2</th>\n",
       "      <td>Private</td>\n",
       "      <td>HS-grad</td>\n",
       "      <td>Divorced</td>\n",
       "      <td>Handlers-cleaners</td>\n",
       "      <td>Not-in-family</td>\n",
       "      <td>White</td>\n",
       "      <td>Male</td>\n",
       "      <td>United-States</td>\n",
       "      <td>&lt;=50K</td>\n",
       "    </tr>\n",
       "    <tr>\n",
       "      <th>3</th>\n",
       "      <td>Private</td>\n",
       "      <td>11th</td>\n",
       "      <td>Married-civ-spouse</td>\n",
       "      <td>Handlers-cleaners</td>\n",
       "      <td>Husband</td>\n",
       "      <td>Black</td>\n",
       "      <td>Male</td>\n",
       "      <td>United-States</td>\n",
       "      <td>&lt;=50K</td>\n",
       "    </tr>\n",
       "    <tr>\n",
       "      <th>4</th>\n",
       "      <td>Private</td>\n",
       "      <td>Bachelors</td>\n",
       "      <td>Married-civ-spouse</td>\n",
       "      <td>Prof-specialty</td>\n",
       "      <td>Wife</td>\n",
       "      <td>Black</td>\n",
       "      <td>Female</td>\n",
       "      <td>Cuba</td>\n",
       "      <td>&lt;=50K</td>\n",
       "    </tr>\n",
       "    <tr>\n",
       "      <th>...</th>\n",
       "      <td>...</td>\n",
       "      <td>...</td>\n",
       "      <td>...</td>\n",
       "      <td>...</td>\n",
       "      <td>...</td>\n",
       "      <td>...</td>\n",
       "      <td>...</td>\n",
       "      <td>...</td>\n",
       "      <td>...</td>\n",
       "    </tr>\n",
       "    <tr>\n",
       "      <th>32556</th>\n",
       "      <td>Private</td>\n",
       "      <td>Assoc-acdm</td>\n",
       "      <td>Married-civ-spouse</td>\n",
       "      <td>Tech-support</td>\n",
       "      <td>Wife</td>\n",
       "      <td>White</td>\n",
       "      <td>Female</td>\n",
       "      <td>United-States</td>\n",
       "      <td>&lt;=50K</td>\n",
       "    </tr>\n",
       "    <tr>\n",
       "      <th>32557</th>\n",
       "      <td>Private</td>\n",
       "      <td>HS-grad</td>\n",
       "      <td>Married-civ-spouse</td>\n",
       "      <td>Machine-op-inspct</td>\n",
       "      <td>Husband</td>\n",
       "      <td>White</td>\n",
       "      <td>Male</td>\n",
       "      <td>United-States</td>\n",
       "      <td>&gt;50K</td>\n",
       "    </tr>\n",
       "    <tr>\n",
       "      <th>32558</th>\n",
       "      <td>Private</td>\n",
       "      <td>HS-grad</td>\n",
       "      <td>Widowed</td>\n",
       "      <td>Adm-clerical</td>\n",
       "      <td>Unmarried</td>\n",
       "      <td>White</td>\n",
       "      <td>Female</td>\n",
       "      <td>United-States</td>\n",
       "      <td>&lt;=50K</td>\n",
       "    </tr>\n",
       "    <tr>\n",
       "      <th>32559</th>\n",
       "      <td>Private</td>\n",
       "      <td>HS-grad</td>\n",
       "      <td>Never-married</td>\n",
       "      <td>Adm-clerical</td>\n",
       "      <td>Own-child</td>\n",
       "      <td>White</td>\n",
       "      <td>Male</td>\n",
       "      <td>United-States</td>\n",
       "      <td>&lt;=50K</td>\n",
       "    </tr>\n",
       "    <tr>\n",
       "      <th>32560</th>\n",
       "      <td>Self-emp-inc</td>\n",
       "      <td>HS-grad</td>\n",
       "      <td>Married-civ-spouse</td>\n",
       "      <td>Exec-managerial</td>\n",
       "      <td>Wife</td>\n",
       "      <td>White</td>\n",
       "      <td>Female</td>\n",
       "      <td>United-States</td>\n",
       "      <td>&gt;50K</td>\n",
       "    </tr>\n",
       "  </tbody>\n",
       "</table>\n",
       "<p>32561 rows × 9 columns</p>\n",
       "</div>"
      ],
      "text/plain": [
       "               workclass    education       marital_status  \\\n",
       "0              State-gov    Bachelors        Never-married   \n",
       "1       Self-emp-not-inc    Bachelors   Married-civ-spouse   \n",
       "2                Private      HS-grad             Divorced   \n",
       "3                Private         11th   Married-civ-spouse   \n",
       "4                Private    Bachelors   Married-civ-spouse   \n",
       "...                  ...          ...                  ...   \n",
       "32556            Private   Assoc-acdm   Married-civ-spouse   \n",
       "32557            Private      HS-grad   Married-civ-spouse   \n",
       "32558            Private      HS-grad              Widowed   \n",
       "32559            Private      HS-grad        Never-married   \n",
       "32560       Self-emp-inc      HS-grad   Married-civ-spouse   \n",
       "\n",
       "               occupation        relation    race      sex         country  \\\n",
       "0            Adm-clerical   Not-in-family   White     Male   United-States   \n",
       "1         Exec-managerial         Husband   White     Male   United-States   \n",
       "2       Handlers-cleaners   Not-in-family   White     Male   United-States   \n",
       "3       Handlers-cleaners         Husband   Black     Male   United-States   \n",
       "4          Prof-specialty            Wife   Black   Female            Cuba   \n",
       "...                   ...             ...     ...      ...             ...   \n",
       "32556        Tech-support            Wife   White   Female   United-States   \n",
       "32557   Machine-op-inspct         Husband   White     Male   United-States   \n",
       "32558        Adm-clerical       Unmarried   White   Female   United-States   \n",
       "32559        Adm-clerical       Own-child   White     Male   United-States   \n",
       "32560     Exec-managerial            Wife   White   Female   United-States   \n",
       "\n",
       "       Salary  \n",
       "0       <=50K  \n",
       "1       <=50K  \n",
       "2       <=50K  \n",
       "3       <=50K  \n",
       "4       <=50K  \n",
       "...       ...  \n",
       "32556   <=50K  \n",
       "32557    >50K  \n",
       "32558   <=50K  \n",
       "32559   <=50K  \n",
       "32560    >50K  \n",
       "\n",
       "[32561 rows x 9 columns]"
      ]
     },
     "execution_count": 20,
     "metadata": {},
     "output_type": "execute_result"
    }
   ],
   "source": [
    "cat_feat"
   ]
  },
  {
   "cell_type": "code",
   "execution_count": 21,
   "id": "aefae730",
   "metadata": {},
   "outputs": [
    {
     "name": "stdout",
     "output_type": "stream",
     "text": [
      "workclass :  [' State-gov' ' Self-emp-not-inc' ' Private' ' Federal-gov' ' Local-gov'\n",
      " ' ?' ' Self-emp-inc' ' Without-pay' ' Never-worked'] \n",
      "\n",
      "education :  [' Bachelors' ' HS-grad' ' 11th' ' Masters' ' 9th' ' Some-college'\n",
      " ' Assoc-acdm' ' Assoc-voc' ' 7th-8th' ' Doctorate' ' Prof-school'\n",
      " ' 5th-6th' ' 10th' ' 1st-4th' ' Preschool' ' 12th'] \n",
      "\n",
      "marital_status :  [' Never-married' ' Married-civ-spouse' ' Divorced'\n",
      " ' Married-spouse-absent' ' Separated' ' Married-AF-spouse' ' Widowed'] \n",
      "\n",
      "occupation :  [' Adm-clerical' ' Exec-managerial' ' Handlers-cleaners' ' Prof-specialty'\n",
      " ' Other-service' ' Sales' ' Craft-repair' ' Transport-moving'\n",
      " ' Farming-fishing' ' Machine-op-inspct' ' Tech-support' ' ?'\n",
      " ' Protective-serv' ' Armed-Forces' ' Priv-house-serv'] \n",
      "\n",
      "relation :  [' Not-in-family' ' Husband' ' Wife' ' Own-child' ' Unmarried'\n",
      " ' Other-relative'] \n",
      "\n",
      "race :  [' White' ' Black' ' Asian-Pac-Islander' ' Amer-Indian-Eskimo' ' Other'] \n",
      "\n",
      "sex :  [' Male' ' Female'] \n",
      "\n",
      "country :  [' United-States' ' Cuba' ' Jamaica' ' India' ' ?' ' Mexico' ' South'\n",
      " ' Puerto-Rico' ' Honduras' ' England' ' Canada' ' Germany' ' Iran'\n",
      " ' Philippines' ' Italy' ' Poland' ' Columbia' ' Cambodia' ' Thailand'\n",
      " ' Ecuador' ' Laos' ' Taiwan' ' Haiti' ' Portugal' ' Dominican-Republic'\n",
      " ' El-Salvador' ' France' ' Guatemala' ' China' ' Japan' ' Yugoslavia'\n",
      " ' Peru' ' Outlying-US(Guam-USVI-etc)' ' Scotland' ' Trinadad&Tobago'\n",
      " ' Greece' ' Nicaragua' ' Vietnam' ' Hong' ' Ireland' ' Hungary'\n",
      " ' Holand-Netherlands'] \n",
      "\n",
      "Salary :  [' <=50K' ' >50K'] \n",
      "\n"
     ]
    }
   ],
   "source": [
    "for x in cat_feat.columns:\n",
    "    print(x,': ', df[x].unique(),'\\n')"
   ]
  },
  {
   "cell_type": "code",
   "execution_count": 55,
   "id": "296f400f",
   "metadata": {},
   "outputs": [],
   "source": [
    "def feature_engineering(df):\n",
    "    df.columns = ['age','workclass','fnlwgt','education','ed_num','marital_status','occupation','relation',\n",
    "              'race','sex','cap_gain','cap_loss','hrs_per_week','country','Salary']\n",
    "    \n",
    "    df['workclass'] = np.where(df['workclass'] == ' ?', 'Missing', df['workclass'])\n",
    "    wrkcls_label = {value:key for key,value in enumerate(df['workclass'].unique())}\n",
    "    df['workclass'] = df['workclass'].map(wrkcls_label)\n",
    "    \n",
    "    edn_label = {value:key for key,value in enumerate(df['education'].unique())}\n",
    "    df['education'] = df['education'].map(edn_label)\n",
    "    \n",
    "    mrg_label = {value:key for key,value in enumerate(df['marital_status'].unique())}\n",
    "    df['marital_status'] = df['marital_status'].map(mrg_label)\n",
    "\n",
    "    df['occupation'] = np.where(df['occupation'] == ' ?', 'Missing', df['occupation'])\n",
    "    occp_label = {value:key for key,value in enumerate(df['occupation'].unique())}\n",
    "    df['occupation'] = df['occupation'].map(occp_label)\n",
    "    \n",
    "    rel_label = {value:key for key,value in enumerate(df['relation'].unique())}\n",
    "    df['relation'] = df['relation'].map(rel_label)\n",
    "    \n",
    "    race_label = {value:key for key,value in enumerate(df['race'].unique())}\n",
    "    df['race'] = df['race'].map(race_label)\n",
    "    \n",
    "    df['country'] = np.where(df['country'] == ' ?', 'Missing', df['country'])\n",
    "    cntry_label = {value:key for key,value in enumerate(df['country'].unique())}\n",
    "    df['country'] = df['country'].map(cntry_label)\n",
    "    \n",
    "    df['sex'] = np.where(df['sex'] == ' Male', 0, 1)\n",
    "    \n",
    "    return df\n",
    "    "
   ]
  },
  {
   "cell_type": "code",
   "execution_count": 84,
   "id": "64a18fff",
   "metadata": {},
   "outputs": [
    {
     "data": {
      "text/html": [
       "<div>\n",
       "<style scoped>\n",
       "    .dataframe tbody tr th:only-of-type {\n",
       "        vertical-align: middle;\n",
       "    }\n",
       "\n",
       "    .dataframe tbody tr th {\n",
       "        vertical-align: top;\n",
       "    }\n",
       "\n",
       "    .dataframe thead th {\n",
       "        text-align: right;\n",
       "    }\n",
       "</style>\n",
       "<table border=\"1\" class=\"dataframe\">\n",
       "  <thead>\n",
       "    <tr style=\"text-align: right;\">\n",
       "      <th></th>\n",
       "      <th>age</th>\n",
       "      <th>workclass</th>\n",
       "      <th>fnlwgt</th>\n",
       "      <th>education</th>\n",
       "      <th>ed_num</th>\n",
       "      <th>marital_status</th>\n",
       "      <th>occupation</th>\n",
       "      <th>relation</th>\n",
       "      <th>race</th>\n",
       "      <th>sex</th>\n",
       "      <th>cap_gain</th>\n",
       "      <th>cap_loss</th>\n",
       "      <th>hrs_per_week</th>\n",
       "      <th>country</th>\n",
       "      <th>Salary</th>\n",
       "    </tr>\n",
       "  </thead>\n",
       "  <tbody>\n",
       "    <tr>\n",
       "      <th>0</th>\n",
       "      <td>39.0</td>\n",
       "      <td>State-gov</td>\n",
       "      <td>77516.0</td>\n",
       "      <td>Bachelors</td>\n",
       "      <td>13.0</td>\n",
       "      <td>Never-married</td>\n",
       "      <td>Adm-clerical</td>\n",
       "      <td>Not-in-family</td>\n",
       "      <td>White</td>\n",
       "      <td>Male</td>\n",
       "      <td>2174</td>\n",
       "      <td>0</td>\n",
       "      <td>40.0</td>\n",
       "      <td>United-States</td>\n",
       "      <td>&lt;=50K</td>\n",
       "    </tr>\n",
       "    <tr>\n",
       "      <th>1</th>\n",
       "      <td>50.0</td>\n",
       "      <td>Self-emp-not-inc</td>\n",
       "      <td>83311.0</td>\n",
       "      <td>Bachelors</td>\n",
       "      <td>13.0</td>\n",
       "      <td>Married-civ-spouse</td>\n",
       "      <td>Exec-managerial</td>\n",
       "      <td>Husband</td>\n",
       "      <td>White</td>\n",
       "      <td>Male</td>\n",
       "      <td>0</td>\n",
       "      <td>0</td>\n",
       "      <td>32.5</td>\n",
       "      <td>United-States</td>\n",
       "      <td>&lt;=50K</td>\n",
       "    </tr>\n",
       "    <tr>\n",
       "      <th>2</th>\n",
       "      <td>38.0</td>\n",
       "      <td>Private</td>\n",
       "      <td>215646.0</td>\n",
       "      <td>HS-grad</td>\n",
       "      <td>9.0</td>\n",
       "      <td>Divorced</td>\n",
       "      <td>Handlers-cleaners</td>\n",
       "      <td>Not-in-family</td>\n",
       "      <td>White</td>\n",
       "      <td>Male</td>\n",
       "      <td>0</td>\n",
       "      <td>0</td>\n",
       "      <td>40.0</td>\n",
       "      <td>United-States</td>\n",
       "      <td>&lt;=50K</td>\n",
       "    </tr>\n",
       "    <tr>\n",
       "      <th>3</th>\n",
       "      <td>53.0</td>\n",
       "      <td>Private</td>\n",
       "      <td>234721.0</td>\n",
       "      <td>11th</td>\n",
       "      <td>7.0</td>\n",
       "      <td>Married-civ-spouse</td>\n",
       "      <td>Handlers-cleaners</td>\n",
       "      <td>Husband</td>\n",
       "      <td>Black</td>\n",
       "      <td>Male</td>\n",
       "      <td>0</td>\n",
       "      <td>0</td>\n",
       "      <td>40.0</td>\n",
       "      <td>United-States</td>\n",
       "      <td>&lt;=50K</td>\n",
       "    </tr>\n",
       "    <tr>\n",
       "      <th>4</th>\n",
       "      <td>28.0</td>\n",
       "      <td>Private</td>\n",
       "      <td>338409.0</td>\n",
       "      <td>Bachelors</td>\n",
       "      <td>13.0</td>\n",
       "      <td>Married-civ-spouse</td>\n",
       "      <td>Prof-specialty</td>\n",
       "      <td>Wife</td>\n",
       "      <td>Black</td>\n",
       "      <td>Female</td>\n",
       "      <td>0</td>\n",
       "      <td>0</td>\n",
       "      <td>40.0</td>\n",
       "      <td>Cuba</td>\n",
       "      <td>&lt;=50K</td>\n",
       "    </tr>\n",
       "  </tbody>\n",
       "</table>\n",
       "</div>"
      ],
      "text/plain": [
       "    age          workclass    fnlwgt   education  ed_num       marital_status  \\\n",
       "0  39.0          State-gov   77516.0   Bachelors    13.0        Never-married   \n",
       "1  50.0   Self-emp-not-inc   83311.0   Bachelors    13.0   Married-civ-spouse   \n",
       "2  38.0            Private  215646.0     HS-grad     9.0             Divorced   \n",
       "3  53.0            Private  234721.0        11th     7.0   Married-civ-spouse   \n",
       "4  28.0            Private  338409.0   Bachelors    13.0   Married-civ-spouse   \n",
       "\n",
       "           occupation        relation    race      sex  cap_gain  cap_loss  \\\n",
       "0        Adm-clerical   Not-in-family   White     Male      2174         0   \n",
       "1     Exec-managerial         Husband   White     Male         0         0   \n",
       "2   Handlers-cleaners   Not-in-family   White     Male         0         0   \n",
       "3   Handlers-cleaners         Husband   Black     Male         0         0   \n",
       "4      Prof-specialty            Wife   Black   Female         0         0   \n",
       "\n",
       "   hrs_per_week         country  Salary  \n",
       "0          40.0   United-States   <=50K  \n",
       "1          32.5   United-States   <=50K  \n",
       "2          40.0   United-States   <=50K  \n",
       "3          40.0   United-States   <=50K  \n",
       "4          40.0            Cuba   <=50K  "
      ]
     },
     "execution_count": 84,
     "metadata": {},
     "output_type": "execute_result"
    }
   ],
   "source": [
    "test_df = df.copy()\n",
    "test_df.head()"
   ]
  },
  {
   "cell_type": "code",
   "execution_count": 85,
   "id": "20feb39a",
   "metadata": {},
   "outputs": [],
   "source": [
    "test_df = feature_engineering(test_df)"
   ]
  },
  {
   "cell_type": "code",
   "execution_count": 86,
   "id": "6011c7de",
   "metadata": {},
   "outputs": [
    {
     "data": {
      "text/html": [
       "<div>\n",
       "<style scoped>\n",
       "    .dataframe tbody tr th:only-of-type {\n",
       "        vertical-align: middle;\n",
       "    }\n",
       "\n",
       "    .dataframe tbody tr th {\n",
       "        vertical-align: top;\n",
       "    }\n",
       "\n",
       "    .dataframe thead th {\n",
       "        text-align: right;\n",
       "    }\n",
       "</style>\n",
       "<table border=\"1\" class=\"dataframe\">\n",
       "  <thead>\n",
       "    <tr style=\"text-align: right;\">\n",
       "      <th></th>\n",
       "      <th>age</th>\n",
       "      <th>workclass</th>\n",
       "      <th>fnlwgt</th>\n",
       "      <th>education</th>\n",
       "      <th>ed_num</th>\n",
       "      <th>marital_status</th>\n",
       "      <th>occupation</th>\n",
       "      <th>relation</th>\n",
       "      <th>race</th>\n",
       "      <th>sex</th>\n",
       "      <th>cap_gain</th>\n",
       "      <th>cap_loss</th>\n",
       "      <th>hrs_per_week</th>\n",
       "      <th>country</th>\n",
       "      <th>Salary</th>\n",
       "    </tr>\n",
       "  </thead>\n",
       "  <tbody>\n",
       "    <tr>\n",
       "      <th>0</th>\n",
       "      <td>39.0</td>\n",
       "      <td>0</td>\n",
       "      <td>77516.0</td>\n",
       "      <td>0</td>\n",
       "      <td>13.0</td>\n",
       "      <td>0</td>\n",
       "      <td>0</td>\n",
       "      <td>0</td>\n",
       "      <td>0</td>\n",
       "      <td>0</td>\n",
       "      <td>2174</td>\n",
       "      <td>0</td>\n",
       "      <td>40.0</td>\n",
       "      <td>0</td>\n",
       "      <td>&lt;=50K</td>\n",
       "    </tr>\n",
       "    <tr>\n",
       "      <th>1</th>\n",
       "      <td>50.0</td>\n",
       "      <td>1</td>\n",
       "      <td>83311.0</td>\n",
       "      <td>0</td>\n",
       "      <td>13.0</td>\n",
       "      <td>1</td>\n",
       "      <td>1</td>\n",
       "      <td>1</td>\n",
       "      <td>0</td>\n",
       "      <td>0</td>\n",
       "      <td>0</td>\n",
       "      <td>0</td>\n",
       "      <td>32.5</td>\n",
       "      <td>0</td>\n",
       "      <td>&lt;=50K</td>\n",
       "    </tr>\n",
       "    <tr>\n",
       "      <th>2</th>\n",
       "      <td>38.0</td>\n",
       "      <td>2</td>\n",
       "      <td>215646.0</td>\n",
       "      <td>1</td>\n",
       "      <td>9.0</td>\n",
       "      <td>2</td>\n",
       "      <td>2</td>\n",
       "      <td>0</td>\n",
       "      <td>0</td>\n",
       "      <td>0</td>\n",
       "      <td>0</td>\n",
       "      <td>0</td>\n",
       "      <td>40.0</td>\n",
       "      <td>0</td>\n",
       "      <td>&lt;=50K</td>\n",
       "    </tr>\n",
       "    <tr>\n",
       "      <th>3</th>\n",
       "      <td>53.0</td>\n",
       "      <td>2</td>\n",
       "      <td>234721.0</td>\n",
       "      <td>2</td>\n",
       "      <td>7.0</td>\n",
       "      <td>1</td>\n",
       "      <td>2</td>\n",
       "      <td>1</td>\n",
       "      <td>1</td>\n",
       "      <td>0</td>\n",
       "      <td>0</td>\n",
       "      <td>0</td>\n",
       "      <td>40.0</td>\n",
       "      <td>0</td>\n",
       "      <td>&lt;=50K</td>\n",
       "    </tr>\n",
       "    <tr>\n",
       "      <th>4</th>\n",
       "      <td>28.0</td>\n",
       "      <td>2</td>\n",
       "      <td>338409.0</td>\n",
       "      <td>0</td>\n",
       "      <td>13.0</td>\n",
       "      <td>1</td>\n",
       "      <td>3</td>\n",
       "      <td>2</td>\n",
       "      <td>1</td>\n",
       "      <td>1</td>\n",
       "      <td>0</td>\n",
       "      <td>0</td>\n",
       "      <td>40.0</td>\n",
       "      <td>1</td>\n",
       "      <td>&lt;=50K</td>\n",
       "    </tr>\n",
       "  </tbody>\n",
       "</table>\n",
       "</div>"
      ],
      "text/plain": [
       "    age  workclass    fnlwgt  education  ed_num  marital_status  occupation  \\\n",
       "0  39.0          0   77516.0          0    13.0               0           0   \n",
       "1  50.0          1   83311.0          0    13.0               1           1   \n",
       "2  38.0          2  215646.0          1     9.0               2           2   \n",
       "3  53.0          2  234721.0          2     7.0               1           2   \n",
       "4  28.0          2  338409.0          0    13.0               1           3   \n",
       "\n",
       "   relation  race  sex  cap_gain  cap_loss  hrs_per_week  country  Salary  \n",
       "0         0     0    0      2174         0          40.0        0   <=50K  \n",
       "1         1     0    0         0         0          32.5        0   <=50K  \n",
       "2         0     0    0         0         0          40.0        0   <=50K  \n",
       "3         1     1    0         0         0          40.0        0   <=50K  \n",
       "4         2     1    1         0         0          40.0        1   <=50K  "
      ]
     },
     "execution_count": 86,
     "metadata": {},
     "output_type": "execute_result"
    }
   ],
   "source": [
    "test_df.head()"
   ]
  },
  {
   "cell_type": "code",
   "execution_count": 87,
   "id": "885cf96d",
   "metadata": {},
   "outputs": [
    {
     "data": {
      "text/plain": [
       "Index(['age', 'workclass', 'fnlwgt', 'education', 'ed_num', 'marital_status',\n",
       "       'occupation', 'relation', 'race', 'sex', 'cap_gain', 'cap_loss',\n",
       "       'hrs_per_week', 'country', 'Salary'],\n",
       "      dtype='object')"
      ]
     },
     "execution_count": 87,
     "metadata": {},
     "output_type": "execute_result"
    }
   ],
   "source": [
    "test_df.columns"
   ]
  },
  {
   "cell_type": "code",
   "execution_count": 88,
   "id": "137b3aab",
   "metadata": {},
   "outputs": [],
   "source": [
    "X = test_df[['age', 'workclass', 'fnlwgt', 'education', 'ed_num', 'marital_status',\n",
    "       'occupation', 'relation', 'race', 'sex', 'cap_gain', 'cap_loss',\n",
    "       'hrs_per_week', 'country']]\n",
    "y = test_df [['Salary']]"
   ]
  },
  {
   "cell_type": "code",
   "execution_count": 28,
   "id": "3531bda1",
   "metadata": {},
   "outputs": [
    {
     "data": {
      "text/plain": [
       "Salary\n",
       " <=50K    0.75919\n",
       " >50K     0.24081\n",
       "dtype: float64"
      ]
     },
     "execution_count": 28,
     "metadata": {},
     "output_type": "execute_result"
    }
   ],
   "source": [
    "y.value_counts(normalize=True)"
   ]
  },
  {
   "cell_type": "code",
   "execution_count": 29,
   "id": "2c053f91",
   "metadata": {},
   "outputs": [],
   "source": [
    "from sklearn.preprocessing import StandardScaler\n",
    "sc = StandardScaler()\n",
    "X = sc.fit_transform(X)"
   ]
  },
  {
   "cell_type": "code",
   "execution_count": 89,
   "id": "e0ec37b5",
   "metadata": {},
   "outputs": [],
   "source": [
    "from sklearn.model_selection import train_test_split\n",
    "X_train, X_test, y_train, y_test = train_test_split(X,y,test_size=0.3,random_state=1)"
   ]
  },
  {
   "cell_type": "code",
   "execution_count": 31,
   "id": "9bf4db57",
   "metadata": {},
   "outputs": [
    {
     "data": {
      "text/plain": [
       "LogisticRegression()"
      ]
     },
     "execution_count": 31,
     "metadata": {},
     "output_type": "execute_result"
    }
   ],
   "source": [
    "from sklearn.linear_model import LogisticRegression\n",
    "log_reg = LogisticRegression()\n",
    "log_reg.fit(X_train,y_train)"
   ]
  },
  {
   "cell_type": "code",
   "execution_count": 32,
   "id": "98b4bb54",
   "metadata": {},
   "outputs": [],
   "source": [
    "y_pred = log_reg.predict(X_test)"
   ]
  },
  {
   "cell_type": "code",
   "execution_count": 33,
   "id": "24609567",
   "metadata": {},
   "outputs": [
    {
     "data": {
      "text/plain": [
       "Salary\n",
       " <=50K    7550\n",
       " >50K     2219\n",
       "dtype: int64"
      ]
     },
     "execution_count": 33,
     "metadata": {},
     "output_type": "execute_result"
    }
   ],
   "source": [
    "y_test.value_counts()"
   ]
  },
  {
   "cell_type": "code",
   "execution_count": 34,
   "id": "f17977aa",
   "metadata": {},
   "outputs": [
    {
     "name": "stdout",
     "output_type": "stream",
     "text": [
      "Accuracy score is 0.8317125601392159\n",
      "Confusion matrix is \n",
      "[[7111  439]\n",
      " [1205 1014]]\n",
      "classification report is \n",
      "              precision    recall  f1-score   support\n",
      "\n",
      "       <=50K       0.86      0.94      0.90      7550\n",
      "        >50K       0.70      0.46      0.55      2219\n",
      "\n",
      "    accuracy                           0.83      9769\n",
      "   macro avg       0.78      0.70      0.72      9769\n",
      "weighted avg       0.82      0.83      0.82      9769\n",
      "\n"
     ]
    }
   ],
   "source": [
    "from sklearn.metrics import accuracy_score, classification_report, confusion_matrix\n",
    "print('Accuracy score is {}'.format(accuracy_score(y_test,y_pred)))\n",
    "print('Confusion matrix is \\n{}'.format(confusion_matrix(y_test,y_pred)))\n",
    "print('classification report is \\n{}'.format(classification_report(y_test,y_pred)))"
   ]
  },
  {
   "cell_type": "code",
   "execution_count": 39,
   "id": "c166c4ac",
   "metadata": {},
   "outputs": [
    {
     "name": "stdout",
     "output_type": "stream",
     "text": [
      "Requirement already satisfied: imblearn in d:\\anaconda\\envs\\practice\\lib\\site-packages (0.0)\n",
      "Requirement already satisfied: imbalanced-learn in d:\\anaconda\\envs\\practice\\lib\\site-packages (from imblearn) (0.8.1)\n",
      "Requirement already satisfied: numpy>=1.13.3 in d:\\anaconda\\envs\\practice\\lib\\site-packages (from imbalanced-learn->imblearn) (1.21.4)\n",
      "Requirement already satisfied: joblib>=0.11 in d:\\anaconda\\envs\\practice\\lib\\site-packages (from imbalanced-learn->imblearn) (1.1.0)\n",
      "Requirement already satisfied: scipy>=0.19.1 in d:\\anaconda\\envs\\practice\\lib\\site-packages (from imbalanced-learn->imblearn) (1.7.2)\n",
      "Requirement already satisfied: scikit-learn>=0.24 in d:\\anaconda\\envs\\practice\\lib\\site-packages (from imbalanced-learn->imblearn) (1.0.1)\n",
      "Requirement already satisfied: threadpoolctl>=2.0.0 in d:\\anaconda\\envs\\practice\\lib\\site-packages (from scikit-learn>=0.24->imbalanced-learn->imblearn) (3.0.0)\n"
     ]
    }
   ],
   "source": [
    "!pip install imblearn"
   ]
  },
  {
   "cell_type": "code",
   "execution_count": 73,
   "id": "b68a3709",
   "metadata": {},
   "outputs": [],
   "source": [
    "file = open('test.pkl','wb')\n",
    "import pickle\n",
    "pickle.dump(log_reg,file)"
   ]
  },
  {
   "cell_type": "code",
   "execution_count": 74,
   "id": "2373c98f",
   "metadata": {},
   "outputs": [],
   "source": [
    "y1 = pickle.load(open('test.pkl','rb'))"
   ]
  },
  {
   "cell_type": "code",
   "execution_count": 75,
   "id": "1d1e1370",
   "metadata": {},
   "outputs": [],
   "source": [
    "test_df = pd.read_csv('test.csv',header=None)"
   ]
  },
  {
   "cell_type": "code",
   "execution_count": 76,
   "id": "cba38136",
   "metadata": {},
   "outputs": [],
   "source": [
    "def test_feature_engineering(df):\n",
    "    df.columns = ['age','workclass','fnlwgt','education','ed_num','marital_status','occupation','relation',\n",
    "              'race','sex','cap_gain','cap_loss','hrs_per_week','country']\n",
    "    \n",
    "    df['workclass'] = np.where(df['workclass'] == ' ?', 'Missing', df['workclass'])\n",
    "    wrkcls_label = {value:key for key,value in enumerate(df['workclass'].unique())}\n",
    "    df['workclass'] = df['workclass'].map(wrkcls_label)\n",
    "    \n",
    "    edn_label = {value:key for key,value in enumerate(df['education'].unique())}\n",
    "    df['education'] = df['education'].map(edn_label)\n",
    "    \n",
    "    mrg_label = {value:key for key,value in enumerate(df['marital_status'].unique())}\n",
    "    df['marital_status'] = df['marital_status'].map(mrg_label)\n",
    "\n",
    "    df['occupation'] = np.where(df['occupation'] == ' ?', 'Missing', df['occupation'])\n",
    "    occp_label = {value:key for key,value in enumerate(df['occupation'].unique())}\n",
    "    df['occupation'] = df['occupation'].map(occp_label)\n",
    "    \n",
    "    rel_label = {value:key for key,value in enumerate(df['relation'].unique())}\n",
    "    df['relation'] = df['relation'].map(rel_label)\n",
    "    \n",
    "    race_label = {value:key for key,value in enumerate(df['race'].unique())}\n",
    "    df['race'] = df['race'].map(race_label)\n",
    "    \n",
    "    df['country'] = np.where(df['country'] == ' ?', 'Missing', df['country'])\n",
    "    cntry_label = {value:key for key,value in enumerate(df['country'].unique())}\n",
    "    df['country'] = df['country'].map(cntry_label)\n",
    "    \n",
    "    df['sex'] = np.where(df['sex'] == ' Male', 0, 1)\n",
    "    \n",
    "    return df\n",
    "    "
   ]
  },
  {
   "cell_type": "code",
   "execution_count": 77,
   "id": "b056c229",
   "metadata": {
    "scrolled": true
   },
   "outputs": [],
   "source": [
    "test_df = test_feature_engineering(test_df)"
   ]
  },
  {
   "cell_type": "code",
   "execution_count": 78,
   "id": "4d2bd702",
   "metadata": {},
   "outputs": [],
   "source": [
    "def scalar(df):\n",
    "    sc = StandardScaler()\n",
    "    X = df[['age','workclass','fnlwgt','education','ed_num','marital_status','occupation','relation',\n",
    "              'race','sex','cap_gain','cap_loss','hrs_per_week','country']]\n",
    "    X = sc.fit_transform(X)\n",
    "    return X"
   ]
  },
  {
   "cell_type": "code",
   "execution_count": null,
   "id": "17b8b522",
   "metadata": {},
   "outputs": [],
   "source": []
  }
 ],
 "metadata": {
  "kernelspec": {
   "display_name": "Python 3 (ipykernel)",
   "language": "python",
   "name": "python3"
  },
  "language_info": {
   "codemirror_mode": {
    "name": "ipython",
    "version": 3
   },
   "file_extension": ".py",
   "mimetype": "text/x-python",
   "name": "python",
   "nbconvert_exporter": "python",
   "pygments_lexer": "ipython3",
   "version": "3.9.6"
  }
 },
 "nbformat": 4,
 "nbformat_minor": 5
}
